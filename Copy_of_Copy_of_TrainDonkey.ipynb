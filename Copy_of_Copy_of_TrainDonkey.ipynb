{
  "nbformat": 4,
  "nbformat_minor": 0,
  "metadata": {
    "colab": {
      "name": "Copy of Copy of TrainDonkey.ipynb",
      "version": "0.3.2",
      "provenance": [],
      "collapsed_sections": [],
      "include_colab_link": true
    },
    "kernelspec": {
      "name": "python3",
      "display_name": "Python 3"
    },
    "accelerator": "GPU"
  },
  "cells": [
    {
      "cell_type": "markdown",
      "metadata": {
        "id": "view-in-github",
        "colab_type": "text"
      },
      "source": [
        "<a href=\"https://colab.research.google.com/github/hoooon89/DonkeyColab/blob/master/Copy_of_Copy_of_TrainDonkey.ipynb\" target=\"_parent\"><img src=\"https://colab.research.google.com/assets/colab-badge.svg\" alt=\"Open In Colab\"/></a>"
      ]
    },
    {
      "cell_type": "markdown",
      "metadata": {
        "id": "hbMtyS71vevR",
        "colab_type": "text"
      },
      "source": [
        "This is a Colab notebook to train your Donkey pilot in the cloud using free accelerated gpu machines.\n",
        "\n",
        "Select a cell by clicking on it. Then click the left arrow to run, or ctrl+enter on your keyboard.\n"
      ]
    },
    {
      "cell_type": "code",
      "metadata": {
        "id": "jV821oAK-MnA",
        "colab_type": "code",
        "outputId": "9dc30dac-e794-44fc-bd16-f550327d64ae",
        "colab": {
          "base_uri": "https://localhost:8080/",
          "height": 35
        }
      },
      "source": [
        "ls"
      ],
      "execution_count": 0,
      "outputs": [
        {
          "output_type": "stream",
          "text": [
            "\u001b[0m\u001b[01;34msample_data\u001b[0m/\n"
          ],
          "name": "stdout"
        }
      ]
    },
    {
      "cell_type": "code",
      "metadata": {
        "id": "Zhou_rf3P95R",
        "colab_type": "code",
        "outputId": "c1f91662-a969-405d-a572-8f3eba1ac39e",
        "colab": {
          "base_uri": "https://localhost:8080/",
          "height": 557
        }
      },
      "source": [
        "!pip install --upgrade tensorflow-gpu==1.13.1"
      ],
      "execution_count": 0,
      "outputs": [
        {
          "output_type": "stream",
          "text": [
            "Collecting tensorflow-gpu==1.13.1\n",
            "\u001b[?25l  Downloading https://files.pythonhosted.org/packages/7b/b1/0ad4ae02e17ddd62109cd54c291e311c4b5fd09b4d0678d3d6ce4159b0f0/tensorflow_gpu-1.13.1-cp36-cp36m-manylinux1_x86_64.whl (345.2MB)\n",
            "\u001b[K     |████████████████████████████████| 345.2MB 58kB/s \n",
            "\u001b[?25hCollecting tensorflow-estimator<1.14.0rc0,>=1.13.0 (from tensorflow-gpu==1.13.1)\n",
            "\u001b[?25l  Downloading https://files.pythonhosted.org/packages/bb/48/13f49fc3fa0fdf916aa1419013bb8f2ad09674c275b4046d5ee669a46873/tensorflow_estimator-1.13.0-py2.py3-none-any.whl (367kB)\n",
            "\u001b[K     |████████████████████████████████| 368kB 29.5MB/s \n",
            "\u001b[?25hRequirement already satisfied, skipping upgrade: keras-preprocessing>=1.0.5 in /usr/local/lib/python3.6/dist-packages (from tensorflow-gpu==1.13.1) (1.1.0)\n",
            "Requirement already satisfied, skipping upgrade: absl-py>=0.1.6 in /usr/local/lib/python3.6/dist-packages (from tensorflow-gpu==1.13.1) (0.7.1)\n",
            "Requirement already satisfied, skipping upgrade: numpy>=1.13.3 in /usr/local/lib/python3.6/dist-packages (from tensorflow-gpu==1.13.1) (1.16.4)\n",
            "Requirement already satisfied, skipping upgrade: astor>=0.6.0 in /usr/local/lib/python3.6/dist-packages (from tensorflow-gpu==1.13.1) (0.8.0)\n",
            "Requirement already satisfied, skipping upgrade: protobuf>=3.6.1 in /usr/local/lib/python3.6/dist-packages (from tensorflow-gpu==1.13.1) (3.7.1)\n",
            "Requirement already satisfied, skipping upgrade: wheel>=0.26 in /usr/local/lib/python3.6/dist-packages (from tensorflow-gpu==1.13.1) (0.33.4)\n",
            "Requirement already satisfied, skipping upgrade: tensorboard<1.14.0,>=1.13.0 in /usr/local/lib/python3.6/dist-packages (from tensorflow-gpu==1.13.1) (1.13.1)\n",
            "Requirement already satisfied, skipping upgrade: six>=1.10.0 in /usr/local/lib/python3.6/dist-packages (from tensorflow-gpu==1.13.1) (1.12.0)\n",
            "Requirement already satisfied, skipping upgrade: keras-applications>=1.0.6 in /usr/local/lib/python3.6/dist-packages (from tensorflow-gpu==1.13.1) (1.0.8)\n",
            "Requirement already satisfied, skipping upgrade: gast>=0.2.0 in /usr/local/lib/python3.6/dist-packages (from tensorflow-gpu==1.13.1) (0.2.2)\n",
            "Requirement already satisfied, skipping upgrade: termcolor>=1.1.0 in /usr/local/lib/python3.6/dist-packages (from tensorflow-gpu==1.13.1) (1.1.0)\n",
            "Requirement already satisfied, skipping upgrade: grpcio>=1.8.6 in /usr/local/lib/python3.6/dist-packages (from tensorflow-gpu==1.13.1) (1.15.0)\n",
            "Collecting mock>=2.0.0 (from tensorflow-estimator<1.14.0rc0,>=1.13.0->tensorflow-gpu==1.13.1)\n",
            "  Downloading https://files.pythonhosted.org/packages/05/d2/f94e68be6b17f46d2c353564da56e6fb89ef09faeeff3313a046cb810ca9/mock-3.0.5-py2.py3-none-any.whl\n",
            "Requirement already satisfied, skipping upgrade: setuptools in /usr/local/lib/python3.6/dist-packages (from protobuf>=3.6.1->tensorflow-gpu==1.13.1) (41.0.1)\n",
            "Requirement already satisfied, skipping upgrade: markdown>=2.6.8 in /usr/local/lib/python3.6/dist-packages (from tensorboard<1.14.0,>=1.13.0->tensorflow-gpu==1.13.1) (3.1.1)\n",
            "Requirement already satisfied, skipping upgrade: werkzeug>=0.11.15 in /usr/local/lib/python3.6/dist-packages (from tensorboard<1.14.0,>=1.13.0->tensorflow-gpu==1.13.1) (0.15.4)\n",
            "Requirement already satisfied, skipping upgrade: h5py in /usr/local/lib/python3.6/dist-packages (from keras-applications>=1.0.6->tensorflow-gpu==1.13.1) (2.8.0)\n",
            "\u001b[31mERROR: tensorflow 1.14.0rc1 has requirement tensorflow-estimator<1.15.0rc0,>=1.14.0rc0, but you'll have tensorflow-estimator 1.13.0 which is incompatible.\u001b[0m\n",
            "Installing collected packages: mock, tensorflow-estimator, tensorflow-gpu\n",
            "  Found existing installation: tensorflow-estimator 1.14.0rc1\n",
            "    Uninstalling tensorflow-estimator-1.14.0rc1:\n",
            "      Successfully uninstalled tensorflow-estimator-1.14.0rc1\n",
            "Successfully installed mock-3.0.5 tensorflow-estimator-1.13.0 tensorflow-gpu-1.13.1\n"
          ],
          "name": "stdout"
        }
      ]
    },
    {
      "cell_type": "code",
      "metadata": {
        "id": "1UtdsBmO1oWz",
        "colab_type": "code",
        "outputId": "c32cc58f-1079-4886-b9eb-55c5d32d7062",
        "colab": {
          "base_uri": "https://localhost:8080/",
          "height": 53
        }
      },
      "source": [
        "#make sure tensorflow is setup, and is using GPU\n",
        "import tensorflow as tf\n",
        "print(tf.__version__)\n",
        "tf.test.gpu_device_name()\n",
        "\n",
        "#if gpu is detected, you should see something like: '/device:GPU:0', if not, then no gpu is enabled."
      ],
      "execution_count": 0,
      "outputs": [
        {
          "output_type": "stream",
          "text": [
            "1.13.1\n"
          ],
          "name": "stdout"
        },
        {
          "output_type": "execute_result",
          "data": {
            "text/plain": [
              "'/device:GPU:0'"
            ]
          },
          "metadata": {
            "tags": []
          },
          "execution_count": 3
        }
      ]
    },
    {
      "cell_type": "code",
      "metadata": {
        "id": "q0-NzaxhmTUc",
        "colab_type": "code",
        "outputId": "345f7feb-6f13-4751-a2fc-a595f3e1292d",
        "colab": {
          "base_uri": "https://localhost:8080/",
          "height": 107
        }
      },
      "source": [
        "#install donkey from github\n",
        "!git clone https://github.com/tawnkramer/donkey >> log.txt; pip install -e donkey >> log.txt"
      ],
      "execution_count": 0,
      "outputs": [
        {
          "output_type": "stream",
          "text": [
            "Cloning into 'donkey'...\n",
            "remote: Enumerating objects: 6577, done.\u001b[K\n",
            "remote: Total 6577 (delta 0), reused 0 (delta 0), pack-reused 6577\u001b[K\n",
            "Receiving objects: 100% (6577/6577), 14.85 MiB | 15.57 MiB/s, done.\n",
            "Resolving deltas: 100% (4001/4001), done.\n"
          ],
          "name": "stdout"
        }
      ]
    },
    {
      "cell_type": "code",
      "metadata": {
        "id": "b2HWdlFcnsY3",
        "colab_type": "code",
        "outputId": "2c1aac96-8508-4396-e734-99a05c8c2ad9",
        "colab": {
          "base_uri": "https://localhost:8080/",
          "height": 233
        }
      },
      "source": [
        "#create a working dir from templates\n",
        "!donkey createcar --path d2;"
      ],
      "execution_count": 0,
      "outputs": [
        {
          "output_type": "stream",
          "text": [
            "using donkey v2.6.0t ...\n",
            "Creating car folder: d2\n",
            "making dir  d2\n",
            "Creating data & model folders.\n",
            "making dir  d2/models\n",
            "making dir  d2/data\n",
            "making dir  d2/logs\n",
            "Copying car application template: donkey2\n",
            "Copying car config defaults. Adjust these before starting your car.\n",
            "Copying train script. Adjust these before starting your car.\n",
            "Copying my car config overrides\n",
            "Donkey setup complete.\n"
          ],
          "name": "stdout"
        }
      ]
    },
    {
      "cell_type": "code",
      "metadata": {
        "id": "VfMoiH1X9gOF",
        "colab_type": "code",
        "outputId": "625cb5fe-7dee-47ae-e1a1-b1510d1cd0d1",
        "colab": {
          "base_uri": "https://localhost:8080/",
          "height": 35
        }
      },
      "source": [
        "ls"
      ],
      "execution_count": 0,
      "outputs": [
        {
          "output_type": "stream",
          "text": [
            "\u001b[0m\u001b[01;34md2\u001b[0m/  \u001b[01;34mdonkey\u001b[0m/  log.txt  \u001b[01;34msample_data\u001b[0m/\n"
          ],
          "name": "stdout"
        }
      ]
    },
    {
      "cell_type": "markdown",
      "metadata": {
        "id": "GkYLxfbNuyTj",
        "colab_type": "text"
      },
      "source": [
        "You will need to tar your files before uploading them. In your machine, do:\n",
        "\n",
        "```\n",
        "cd d2\n",
        "\n",
        "tar -cf tub_data.tar data\n",
        "```\n",
        "\n",
        "to make a tar file with all your tubs in it. Then run the cell below to upload the tar file.\n"
      ]
    },
    {
      "cell_type": "code",
      "metadata": {
        "id": "l80GicdCmRWz",
        "colab_type": "code",
        "outputId": "21cb27a2-9e22-4008-99de-ab613dc36a5b",
        "colab": {
          "resources": {
            "http://localhost:8080/nbextensions/google.colab/files.js": {
              "data": "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",
              "ok": true,
              "headers": [
                [
                  "content-type",
                  "application/javascript"
                ]
              ],
              "status": 200,
              "status_text": ""
            }
          },
          "base_uri": "https://localhost:8080/",
          "height": 96
        }
      },
      "source": [
        "#this will upload your files\n",
        "\n",
        "from google.colab import files\n",
        "\n",
        "uploaded = files.upload()\n",
        "\n",
        "for fn in uploaded.keys():\n",
        "  print('User uploaded file \"{name}\" with length {length} bytes'.format(\n",
        "      name=fn, length=len(uploaded[fn])))"
      ],
      "execution_count": 0,
      "outputs": [
        {
          "output_type": "display_data",
          "data": {
            "text/html": [
              "\n",
              "     <input type=\"file\" id=\"files-09a1b41a-becf-4e2d-8f51-0ed77d5ba1e9\" name=\"files[]\" multiple disabled />\n",
              "     <output id=\"result-09a1b41a-becf-4e2d-8f51-0ed77d5ba1e9\">\n",
              "      Upload widget is only available when the cell has been executed in the\n",
              "      current browser session. Please rerun this cell to enable.\n",
              "      </output>\n",
              "      <script src=\"/nbextensions/google.colab/files.js\"></script> "
            ],
            "text/plain": [
              "<IPython.core.display.HTML object>"
            ]
          },
          "metadata": {
            "tags": []
          }
        },
        {
          "output_type": "stream",
          "text": [
            "Saving tub_data.tar to tub_data.tar\n",
            "User uploaded file \"tub_data.tar\" with length 145020416 bytes\n"
          ],
          "name": "stdout"
        }
      ]
    },
    {
      "cell_type": "code",
      "metadata": {
        "id": "NYdBWtn0oqc4",
        "colab_type": "code",
        "outputId": "73be2b00-8c16-4c84-d0ce-4fc6e03646f9",
        "colab": {
          "base_uri": "https://localhost:8080/",
          "height": 89
        }
      },
      "source": [
        "#move tar and extract it, confirm that the data made it up there ok\n",
        "!mv tub_data.tar d2; cd d2; tar -xf tub_data.tar;donkey tubcheck data/*"
      ],
      "execution_count": 0,
      "outputs": [
        {
          "output_type": "stream",
          "text": [
            "using donkey v2.6.0t ...\n",
            "Checking tub:data/tub.\n",
            "Found: 24969 records.\n",
            "No problems found.\n"
          ],
          "name": "stdout"
        }
      ]
    },
    {
      "cell_type": "code",
      "metadata": {
        "id": "eREk6NOCC_mb",
        "colab_type": "code",
        "outputId": "a5e44b6c-4324-4de6-88e7-89b208c7da6a",
        "colab": {
          "base_uri": "https://localhost:8080/",
          "height": 7821
        }
      },
      "source": [
        "#start training!\n",
        "import sys\n",
        "sys.path.append('/content/d2')\n",
        "sys.path.append('/content/donkey')\n",
        "import donkeycar as dk\n",
        "from train import multi_train\n",
        "\n",
        "config_path = 'd2/config.py'\n",
        "cfg = dk.load_config(config_path)\n",
        "\n",
        "#You can change some settings here if you like\n",
        "print('batch size', cfg.BATCH_SIZE)\n",
        "tub = \"/content/d2/data/*\"\n",
        "model = \"/content/d2/models/mypilot.h5\"\n",
        "transfer = None\n",
        "model_type = \"categorical\"\n",
        "continuous = False\n",
        "aug = False\n",
        "\n",
        "multi_train(cfg, tub, model, transfer, model_type, continuous, aug)"
      ],
      "execution_count": 0,
      "outputs": [
        {
          "output_type": "stream",
          "text": [
            "using donkey v2.6.0t ...\n"
          ],
          "name": "stdout"
        },
        {
          "output_type": "stream",
          "text": [
            "Using TensorFlow backend.\n"
          ],
          "name": "stderr"
        },
        {
          "output_type": "stream",
          "text": [
            "loading config file: d2/config.py\n",
            "loading personal config over-rides\n",
            "\n",
            "config loaded\n",
            "batch size 128\n",
            "WARNING:tensorflow:From /usr/local/lib/python3.6/dist-packages/tensorflow/python/framework/op_def_library.py:263: colocate_with (from tensorflow.python.framework.ops) is deprecated and will be removed in a future version.\n",
            "Instructions for updating:\n",
            "Colocations handled automatically by placer.\n",
            "WARNING:tensorflow:From /usr/local/lib/python3.6/dist-packages/keras/backend/tensorflow_backend.py:3445: calling dropout (from tensorflow.python.ops.nn_ops) with keep_prob is deprecated and will be removed in a future version.\n",
            "Instructions for updating:\n",
            "Please use `rate` instead of `keep_prob`. Rate should be set to `rate = 1 - keep_prob`.\n",
            "training with model type <class 'donkeycar.parts.keras.KerasCategorical'>\n",
            "__________________________________________________________________________________________________\n",
            "Layer (type)                    Output Shape         Param #     Connected to                     \n",
            "==================================================================================================\n",
            "img_in (InputLayer)             (None, 120, 160, 3)  0                                            \n",
            "__________________________________________________________________________________________________\n",
            "cropping2d_1 (Cropping2D)       (None, 120, 160, 3)  0           img_in[0][0]                     \n",
            "__________________________________________________________________________________________________\n",
            "batch_normalization_1 (BatchNor (None, 120, 160, 3)  12          cropping2d_1[0][0]               \n",
            "__________________________________________________________________________________________________\n",
            "conv2d_1 (Conv2D)               (None, 58, 78, 24)   1824        batch_normalization_1[0][0]      \n",
            "__________________________________________________________________________________________________\n",
            "dropout_1 (Dropout)             (None, 58, 78, 24)   0           conv2d_1[0][0]                   \n",
            "__________________________________________________________________________________________________\n",
            "conv2d_2 (Conv2D)               (None, 27, 37, 32)   19232       dropout_1[0][0]                  \n",
            "__________________________________________________________________________________________________\n",
            "dropout_2 (Dropout)             (None, 27, 37, 32)   0           conv2d_2[0][0]                   \n",
            "__________________________________________________________________________________________________\n",
            "conv2d_3 (Conv2D)               (None, 12, 17, 64)   51264       dropout_2[0][0]                  \n",
            "__________________________________________________________________________________________________\n",
            "conv2d_4 (Conv2D)               (None, 5, 8, 64)     36928       conv2d_3[0][0]                   \n",
            "__________________________________________________________________________________________________\n",
            "dropout_3 (Dropout)             (None, 5, 8, 64)     0           conv2d_4[0][0]                   \n",
            "__________________________________________________________________________________________________\n",
            "conv2d_5 (Conv2D)               (None, 3, 6, 64)     36928       dropout_3[0][0]                  \n",
            "__________________________________________________________________________________________________\n",
            "dropout_4 (Dropout)             (None, 3, 6, 64)     0           conv2d_5[0][0]                   \n",
            "__________________________________________________________________________________________________\n",
            "flattened (Flatten)             (None, 1152)         0           dropout_4[0][0]                  \n",
            "__________________________________________________________________________________________________\n",
            "fc_1 (Dense)                    (None, 100)          115300      flattened[0][0]                  \n",
            "__________________________________________________________________________________________________\n",
            "dropout_5 (Dropout)             (None, 100)          0           fc_1[0][0]                       \n",
            "__________________________________________________________________________________________________\n",
            "fc_2 (Dense)                    (None, 50)           5050        dropout_5[0][0]                  \n",
            "__________________________________________________________________________________________________\n",
            "dropout_6 (Dropout)             (None, 50)           0           fc_2[0][0]                       \n",
            "__________________________________________________________________________________________________\n",
            "angle_out (Dense)               (None, 15)           765         dropout_6[0][0]                  \n",
            "__________________________________________________________________________________________________\n",
            "throttle_out (Dense)            (None, 20)           1020        dropout_6[0][0]                  \n",
            "==================================================================================================\n",
            "Total params: 268,323\n",
            "Trainable params: 268,317\n",
            "Non-trainable params: 6\n",
            "__________________________________________________________________________________________________\n",
            "None\n",
            "found 0 pickles writing json records and images in tub /content/d2/data/tub\n",
            "/content/d2/data/tub\n",
            "collating 24969 records ...\n",
            "train: 19999, val: 4970\n",
            "total records: 24969\n",
            "steps_per_epoch 156\n",
            "WARNING:tensorflow:From /usr/local/lib/python3.6/dist-packages/tensorflow/python/ops/math_ops.py:3066: to_int32 (from tensorflow.python.ops.math_ops) is deprecated and will be removed in a future version.\n",
            "Instructions for updating:\n",
            "Use tf.cast instead.\n",
            "Epoch 1/100\n",
            "156/156 [==============================] - 27s 176ms/step - loss: 1.2175 - angle_out_loss: 1.8738 - throttle_out_loss: 0.2806 - angle_out_acc: 0.5251 - throttle_out_acc: 0.9629 - val_loss: 0.7691 - val_angle_out_loss: 1.2211 - val_throttle_out_loss: 0.1585 - val_angle_out_acc: 0.6663 - val_throttle_out_acc: 0.9887\n",
            "\n",
            "Epoch 00001: val_loss improved from inf to 0.76908, saving model to /content/d2/models/mypilot.h5\n",
            "Epoch 2/100\n",
            "156/156 [==============================] - 17s 109ms/step - loss: 0.7552 - angle_out_loss: 1.2633 - throttle_out_loss: 0.1235 - angle_out_acc: 0.6705 - throttle_out_acc: 0.9883 - val_loss: 0.5915 - val_angle_out_loss: 1.0343 - val_throttle_out_loss: 0.0744 - val_angle_out_acc: 0.7124 - val_throttle_out_acc: 0.9889\n",
            "\n",
            "Epoch 00002: val_loss improved from 0.76908 to 0.59153, saving model to /content/d2/models/mypilot.h5\n",
            "Epoch 3/100\n",
            "156/156 [==============================] - 17s 109ms/step - loss: 0.6763 - angle_out_loss: 1.1415 - throttle_out_loss: 0.1056 - angle_out_acc: 0.7027 - throttle_out_acc: 0.9883 - val_loss: 0.5743 - val_angle_out_loss: 1.0089 - val_throttle_out_loss: 0.0698 - val_angle_out_acc: 0.7134 - val_throttle_out_acc: 0.9885\n",
            "\n",
            "Epoch 00003: val_loss improved from 0.59153 to 0.57427, saving model to /content/d2/models/mypilot.h5\n",
            "Epoch 4/100\n",
            "156/156 [==============================] - 17s 107ms/step - loss: 0.6347 - angle_out_loss: 1.0807 - throttle_out_loss: 0.0943 - angle_out_acc: 0.7100 - throttle_out_acc: 0.9884 - val_loss: 0.5426 - val_angle_out_loss: 0.9631 - val_throttle_out_loss: 0.0610 - val_angle_out_acc: 0.7188 - val_throttle_out_acc: 0.9889\n",
            "\n",
            "Epoch 00004: val_loss improved from 0.57427 to 0.54256, saving model to /content/d2/models/mypilot.h5\n",
            "Epoch 5/100\n",
            "156/156 [==============================] - 17s 108ms/step - loss: 0.6095 - angle_out_loss: 1.0451 - throttle_out_loss: 0.0870 - angle_out_acc: 0.7154 - throttle_out_acc: 0.9884 - val_loss: 0.5403 - val_angle_out_loss: 0.9611 - val_throttle_out_loss: 0.0597 - val_angle_out_acc: 0.7225 - val_throttle_out_acc: 0.9891\n",
            "\n",
            "Epoch 00005: val_loss improved from 0.54256 to 0.54026, saving model to /content/d2/models/mypilot.h5\n",
            "Epoch 6/100\n",
            "156/156 [==============================] - 17s 108ms/step - loss: 0.5966 - angle_out_loss: 1.0247 - throttle_out_loss: 0.0843 - angle_out_acc: 0.7149 - throttle_out_acc: 0.9884 - val_loss: 0.5286 - val_angle_out_loss: 0.9382 - val_throttle_out_loss: 0.0595 - val_angle_out_acc: 0.7245 - val_throttle_out_acc: 0.9885\n",
            "\n",
            "Epoch 00006: val_loss improved from 0.54026 to 0.52857, saving model to /content/d2/models/mypilot.h5\n",
            "Epoch 7/100\n",
            "156/156 [==============================] - 17s 108ms/step - loss: 0.5759 - angle_out_loss: 1.0003 - throttle_out_loss: 0.0758 - angle_out_acc: 0.7185 - throttle_out_acc: 0.9884 - val_loss: 0.5140 - val_angle_out_loss: 0.9140 - val_throttle_out_loss: 0.0570 - val_angle_out_acc: 0.7243 - val_throttle_out_acc: 0.9887\n",
            "\n",
            "Epoch 00007: val_loss improved from 0.52857 to 0.51397, saving model to /content/d2/models/mypilot.h5\n",
            "Epoch 8/100\n",
            "156/156 [==============================] - 17s 108ms/step - loss: 0.5622 - angle_out_loss: 0.9800 - throttle_out_loss: 0.0722 - angle_out_acc: 0.7232 - throttle_out_acc: 0.9885 - val_loss: 0.5038 - val_angle_out_loss: 0.9059 - val_throttle_out_loss: 0.0508 - val_angle_out_acc: 0.7276 - val_throttle_out_acc: 0.9885\n",
            "\n",
            "Epoch 00008: val_loss improved from 0.51397 to 0.50376, saving model to /content/d2/models/mypilot.h5\n",
            "Epoch 9/100\n",
            "156/156 [==============================] - 17s 107ms/step - loss: 0.5494 - angle_out_loss: 0.9616 - throttle_out_loss: 0.0686 - angle_out_acc: 0.7244 - throttle_out_acc: 0.9884 - val_loss: 0.5027 - val_angle_out_loss: 0.9052 - val_throttle_out_loss: 0.0501 - val_angle_out_acc: 0.7331 - val_throttle_out_acc: 0.9887\n",
            "\n",
            "Epoch 00009: val_loss improved from 0.50376 to 0.50266, saving model to /content/d2/models/mypilot.h5\n",
            "Epoch 10/100\n",
            "156/156 [==============================] - 17s 107ms/step - loss: 0.5368 - angle_out_loss: 0.9437 - throttle_out_loss: 0.0649 - angle_out_acc: 0.7268 - throttle_out_acc: 0.9885 - val_loss: 0.4798 - val_angle_out_loss: 0.8702 - val_throttle_out_loss: 0.0447 - val_angle_out_acc: 0.7366 - val_throttle_out_acc: 0.9887\n",
            "\n",
            "Epoch 00010: val_loss improved from 0.50266 to 0.47982, saving model to /content/d2/models/mypilot.h5\n",
            "Epoch 11/100\n",
            "156/156 [==============================] - 16s 105ms/step - loss: 0.5247 - angle_out_loss: 0.9294 - throttle_out_loss: 0.0600 - angle_out_acc: 0.7298 - throttle_out_acc: 0.9887 - val_loss: 0.4825 - val_angle_out_loss: 0.8802 - val_throttle_out_loss: 0.0424 - val_angle_out_acc: 0.7309 - val_throttle_out_acc: 0.9889\n",
            "\n",
            "Epoch 00011: val_loss did not improve from 0.47982\n",
            "Epoch 12/100\n",
            "156/156 [==============================] - 16s 106ms/step - loss: 0.5183 - angle_out_loss: 0.9176 - throttle_out_loss: 0.0595 - angle_out_acc: 0.7327 - throttle_out_acc: 0.9883 - val_loss: 0.4718 - val_angle_out_loss: 0.8649 - val_throttle_out_loss: 0.0393 - val_angle_out_acc: 0.7325 - val_throttle_out_acc: 0.9901\n",
            "\n",
            "Epoch 00012: val_loss improved from 0.47982 to 0.47181, saving model to /content/d2/models/mypilot.h5\n",
            "Epoch 13/100\n",
            "156/156 [==============================] - 16s 105ms/step - loss: 0.5095 - angle_out_loss: 0.9041 - throttle_out_loss: 0.0574 - angle_out_acc: 0.7342 - throttle_out_acc: 0.9886 - val_loss: 0.4637 - val_angle_out_loss: 0.8459 - val_throttle_out_loss: 0.0407 - val_angle_out_acc: 0.7407 - val_throttle_out_acc: 0.9903\n",
            "\n",
            "Epoch 00013: val_loss improved from 0.47181 to 0.46368, saving model to /content/d2/models/mypilot.h5\n",
            "Epoch 14/100\n",
            "156/156 [==============================] - 17s 106ms/step - loss: 0.5023 - angle_out_loss: 0.8966 - throttle_out_loss: 0.0540 - angle_out_acc: 0.7367 - throttle_out_acc: 0.9885 - val_loss: 0.4544 - val_angle_out_loss: 0.8297 - val_throttle_out_loss: 0.0396 - val_angle_out_acc: 0.7414 - val_throttle_out_acc: 0.9897\n",
            "\n",
            "Epoch 00014: val_loss improved from 0.46368 to 0.45443, saving model to /content/d2/models/mypilot.h5\n",
            "Epoch 15/100\n",
            "156/156 [==============================] - 17s 106ms/step - loss: 0.5008 - angle_out_loss: 0.8901 - throttle_out_loss: 0.0558 - angle_out_acc: 0.7375 - throttle_out_acc: 0.9886 - val_loss: 0.4719 - val_angle_out_loss: 0.8666 - val_throttle_out_loss: 0.0386 - val_angle_out_acc: 0.7418 - val_throttle_out_acc: 0.9899\n",
            "\n",
            "Epoch 00015: val_loss did not improve from 0.45443\n",
            "Epoch 16/100\n",
            "156/156 [==============================] - 17s 107ms/step - loss: 0.4938 - angle_out_loss: 0.8837 - throttle_out_loss: 0.0519 - angle_out_acc: 0.7398 - throttle_out_acc: 0.9886 - val_loss: 0.4538 - val_angle_out_loss: 0.8316 - val_throttle_out_loss: 0.0379 - val_angle_out_acc: 0.7407 - val_throttle_out_acc: 0.9899\n",
            "\n",
            "Epoch 00016: val_loss improved from 0.45443 to 0.45375, saving model to /content/d2/models/mypilot.h5\n",
            "Epoch 17/100\n",
            "156/156 [==============================] - 17s 106ms/step - loss: 0.4850 - angle_out_loss: 0.8704 - throttle_out_loss: 0.0498 - angle_out_acc: 0.7414 - throttle_out_acc: 0.9885 - val_loss: 0.4430 - val_angle_out_loss: 0.8123 - val_throttle_out_loss: 0.0369 - val_angle_out_acc: 0.7440 - val_throttle_out_acc: 0.9912\n",
            "\n",
            "Epoch 00017: val_loss improved from 0.45375 to 0.44301, saving model to /content/d2/models/mypilot.h5\n",
            "Epoch 18/100\n",
            "156/156 [==============================] - 16s 106ms/step - loss: 0.4785 - angle_out_loss: 0.8542 - throttle_out_loss: 0.0514 - angle_out_acc: 0.7403 - throttle_out_acc: 0.9883 - val_loss: 0.4469 - val_angle_out_loss: 0.8150 - val_throttle_out_loss: 0.0394 - val_angle_out_acc: 0.7494 - val_throttle_out_acc: 0.9916\n",
            "\n",
            "Epoch 00018: val_loss did not improve from 0.44301\n",
            "Epoch 19/100\n",
            "156/156 [==============================] - 17s 107ms/step - loss: 0.4764 - angle_out_loss: 0.8540 - throttle_out_loss: 0.0494 - angle_out_acc: 0.7416 - throttle_out_acc: 0.9888 - val_loss: 0.4355 - val_angle_out_loss: 0.7966 - val_throttle_out_loss: 0.0372 - val_angle_out_acc: 0.7545 - val_throttle_out_acc: 0.9905\n",
            "\n",
            "Epoch 00019: val_loss improved from 0.44301 to 0.43552, saving model to /content/d2/models/mypilot.h5\n",
            "Epoch 20/100\n",
            "156/156 [==============================] - 17s 107ms/step - loss: 0.4731 - angle_out_loss: 0.8471 - throttle_out_loss: 0.0495 - angle_out_acc: 0.7467 - throttle_out_acc: 0.9893 - val_loss: 0.4325 - val_angle_out_loss: 0.7905 - val_throttle_out_loss: 0.0372 - val_angle_out_acc: 0.7533 - val_throttle_out_acc: 0.9905\n",
            "\n",
            "Epoch 00020: val_loss improved from 0.43552 to 0.43248, saving model to /content/d2/models/mypilot.h5\n",
            "Epoch 21/100\n",
            "156/156 [==============================] - 17s 108ms/step - loss: 0.4638 - angle_out_loss: 0.8377 - throttle_out_loss: 0.0449 - angle_out_acc: 0.7468 - throttle_out_acc: 0.9893 - val_loss: 0.4353 - val_angle_out_loss: 0.7984 - val_throttle_out_loss: 0.0361 - val_angle_out_acc: 0.7521 - val_throttle_out_acc: 0.9907\n",
            "\n",
            "Epoch 00021: val_loss did not improve from 0.43248\n",
            "Epoch 22/100\n",
            "156/156 [==============================] - 16s 106ms/step - loss: 0.4603 - angle_out_loss: 0.8289 - throttle_out_loss: 0.0459 - angle_out_acc: 0.7477 - throttle_out_acc: 0.9892 - val_loss: 0.4321 - val_angle_out_loss: 0.7946 - val_throttle_out_loss: 0.0348 - val_angle_out_acc: 0.7562 - val_throttle_out_acc: 0.9914\n",
            "\n",
            "Epoch 00022: val_loss improved from 0.43248 to 0.43210, saving model to /content/d2/models/mypilot.h5\n",
            "Epoch 23/100\n",
            "156/156 [==============================] - 16s 105ms/step - loss: 0.4577 - angle_out_loss: 0.8219 - throttle_out_loss: 0.0467 - angle_out_acc: 0.7493 - throttle_out_acc: 0.9890 - val_loss: 0.4140 - val_angle_out_loss: 0.7651 - val_throttle_out_loss: 0.0315 - val_angle_out_acc: 0.7613 - val_throttle_out_acc: 0.9914\n",
            "\n",
            "Epoch 00023: val_loss improved from 0.43210 to 0.41403, saving model to /content/d2/models/mypilot.h5\n",
            "Epoch 24/100\n",
            "156/156 [==============================] - 17s 107ms/step - loss: 0.4539 - angle_out_loss: 0.8163 - throttle_out_loss: 0.0458 - angle_out_acc: 0.7515 - throttle_out_acc: 0.9894 - val_loss: 0.4176 - val_angle_out_loss: 0.7648 - val_throttle_out_loss: 0.0352 - val_angle_out_acc: 0.7615 - val_throttle_out_acc: 0.9912\n",
            "\n",
            "Epoch 00024: val_loss did not improve from 0.41403\n",
            "Epoch 25/100\n",
            "156/156 [==============================] - 17s 108ms/step - loss: 0.4473 - angle_out_loss: 0.8063 - throttle_out_loss: 0.0441 - angle_out_acc: 0.7540 - throttle_out_acc: 0.9896 - val_loss: 0.4121 - val_angle_out_loss: 0.7547 - val_throttle_out_loss: 0.0348 - val_angle_out_acc: 0.7607 - val_throttle_out_acc: 0.9914\n",
            "\n",
            "Epoch 00025: val_loss improved from 0.41403 to 0.41215, saving model to /content/d2/models/mypilot.h5\n",
            "Epoch 26/100\n",
            "156/156 [==============================] - 17s 106ms/step - loss: 0.4472 - angle_out_loss: 0.8074 - throttle_out_loss: 0.0435 - angle_out_acc: 0.7525 - throttle_out_acc: 0.9892 - val_loss: 0.4053 - val_angle_out_loss: 0.7447 - val_throttle_out_loss: 0.0329 - val_angle_out_acc: 0.7601 - val_throttle_out_acc: 0.9916\n",
            "\n",
            "Epoch 00026: val_loss improved from 0.41215 to 0.40528, saving model to /content/d2/models/mypilot.h5\n",
            "Epoch 27/100\n",
            "156/156 [==============================] - 17s 108ms/step - loss: 0.4481 - angle_out_loss: 0.8045 - throttle_out_loss: 0.0459 - angle_out_acc: 0.7545 - throttle_out_acc: 0.9891 - val_loss: 0.4094 - val_angle_out_loss: 0.7493 - val_throttle_out_loss: 0.0348 - val_angle_out_acc: 0.7630 - val_throttle_out_acc: 0.9910\n",
            "\n",
            "Epoch 00027: val_loss did not improve from 0.40528\n",
            "Epoch 28/100\n",
            "156/156 [==============================] - 17s 109ms/step - loss: 0.4418 - angle_out_loss: 0.7929 - throttle_out_loss: 0.0453 - angle_out_acc: 0.7562 - throttle_out_acc: 0.9891 - val_loss: 0.4134 - val_angle_out_loss: 0.7559 - val_throttle_out_loss: 0.0355 - val_angle_out_acc: 0.7630 - val_throttle_out_acc: 0.9916\n",
            "\n",
            "Epoch 00028: val_loss did not improve from 0.40528\n",
            "Epoch 29/100\n",
            "156/156 [==============================] - 17s 108ms/step - loss: 0.4361 - angle_out_loss: 0.7901 - throttle_out_loss: 0.0411 - angle_out_acc: 0.7553 - throttle_out_acc: 0.9895 - val_loss: 0.4020 - val_angle_out_loss: 0.7380 - val_throttle_out_loss: 0.0330 - val_angle_out_acc: 0.7636 - val_throttle_out_acc: 0.9914\n",
            "\n",
            "Epoch 00029: val_loss improved from 0.40528 to 0.40200, saving model to /content/d2/models/mypilot.h5\n",
            "Epoch 30/100\n",
            "156/156 [==============================] - 17s 108ms/step - loss: 0.4344 - angle_out_loss: 0.7820 - throttle_out_loss: 0.0434 - angle_out_acc: 0.7607 - throttle_out_acc: 0.9899 - val_loss: 0.4057 - val_angle_out_loss: 0.7430 - val_throttle_out_loss: 0.0342 - val_angle_out_acc: 0.7691 - val_throttle_out_acc: 0.9918\n",
            "\n",
            "Epoch 00030: val_loss did not improve from 0.40200\n",
            "Epoch 31/100\n",
            "156/156 [==============================] - 17s 108ms/step - loss: 0.4311 - angle_out_loss: 0.7768 - throttle_out_loss: 0.0427 - angle_out_acc: 0.7585 - throttle_out_acc: 0.9893 - val_loss: 0.3913 - val_angle_out_loss: 0.7177 - val_throttle_out_loss: 0.0325 - val_angle_out_acc: 0.7738 - val_throttle_out_acc: 0.9916\n",
            "\n",
            "Epoch 00031: val_loss improved from 0.40200 to 0.39130, saving model to /content/d2/models/mypilot.h5\n",
            "Epoch 32/100\n",
            "156/156 [==============================] - 17s 108ms/step - loss: 0.4250 - angle_out_loss: 0.7701 - throttle_out_loss: 0.0400 - angle_out_acc: 0.7621 - throttle_out_acc: 0.9897 - val_loss: 0.3932 - val_angle_out_loss: 0.7208 - val_throttle_out_loss: 0.0328 - val_angle_out_acc: 0.7726 - val_throttle_out_acc: 0.9916\n",
            "\n",
            "Epoch 00032: val_loss did not improve from 0.39130\n",
            "Epoch 33/100\n",
            "156/156 [==============================] - 17s 107ms/step - loss: 0.4245 - angle_out_loss: 0.7623 - throttle_out_loss: 0.0434 - angle_out_acc: 0.7635 - throttle_out_acc: 0.9893 - val_loss: 0.3866 - val_angle_out_loss: 0.7097 - val_throttle_out_loss: 0.0318 - val_angle_out_acc: 0.7732 - val_throttle_out_acc: 0.9907\n",
            "\n",
            "Epoch 00033: val_loss improved from 0.39130 to 0.38663, saving model to /content/d2/models/mypilot.h5\n",
            "Epoch 34/100\n",
            "156/156 [==============================] - 17s 108ms/step - loss: 0.4269 - angle_out_loss: 0.7644 - throttle_out_loss: 0.0447 - angle_out_acc: 0.7620 - throttle_out_acc: 0.9891 - val_loss: 0.3887 - val_angle_out_loss: 0.7081 - val_throttle_out_loss: 0.0346 - val_angle_out_acc: 0.7712 - val_throttle_out_acc: 0.9916\n",
            "\n",
            "Epoch 00034: val_loss did not improve from 0.38663\n",
            "Epoch 35/100\n",
            "156/156 [==============================] - 17s 109ms/step - loss: 0.4226 - angle_out_loss: 0.7599 - throttle_out_loss: 0.0426 - angle_out_acc: 0.7630 - throttle_out_acc: 0.9890 - val_loss: 0.3855 - val_angle_out_loss: 0.7039 - val_throttle_out_loss: 0.0336 - val_angle_out_acc: 0.7718 - val_throttle_out_acc: 0.9918\n",
            "\n",
            "Epoch 00035: val_loss improved from 0.38663 to 0.38550, saving model to /content/d2/models/mypilot.h5\n",
            "Epoch 36/100\n",
            "156/156 [==============================] - 17s 108ms/step - loss: 0.4161 - angle_out_loss: 0.7523 - throttle_out_loss: 0.0399 - angle_out_acc: 0.7654 - throttle_out_acc: 0.9892 - val_loss: 0.3760 - val_angle_out_loss: 0.6871 - val_throttle_out_loss: 0.0325 - val_angle_out_acc: 0.7755 - val_throttle_out_acc: 0.9905\n",
            "\n",
            "Epoch 00036: val_loss improved from 0.38550 to 0.37601, saving model to /content/d2/models/mypilot.h5\n",
            "Epoch 37/100\n",
            "156/156 [==============================] - 17s 108ms/step - loss: 0.4157 - angle_out_loss: 0.7470 - throttle_out_loss: 0.0422 - angle_out_acc: 0.7656 - throttle_out_acc: 0.9897 - val_loss: 0.3759 - val_angle_out_loss: 0.6887 - val_throttle_out_loss: 0.0315 - val_angle_out_acc: 0.7782 - val_throttle_out_acc: 0.9918\n",
            "\n",
            "Epoch 00037: val_loss improved from 0.37601 to 0.37590, saving model to /content/d2/models/mypilot.h5\n",
            "Epoch 38/100\n",
            "156/156 [==============================] - 17s 107ms/step - loss: 0.4142 - angle_out_loss: 0.7430 - throttle_out_loss: 0.0427 - angle_out_acc: 0.7657 - throttle_out_acc: 0.9892 - val_loss: 0.3765 - val_angle_out_loss: 0.6887 - val_throttle_out_loss: 0.0322 - val_angle_out_acc: 0.7755 - val_throttle_out_acc: 0.9914\n",
            "\n",
            "Epoch 00038: val_loss did not improve from 0.37590\n",
            "Epoch 39/100\n",
            "156/156 [==============================] - 17s 106ms/step - loss: 0.4061 - angle_out_loss: 0.7313 - throttle_out_loss: 0.0405 - angle_out_acc: 0.7677 - throttle_out_acc: 0.9896 - val_loss: 0.3724 - val_angle_out_loss: 0.6795 - val_throttle_out_loss: 0.0327 - val_angle_out_acc: 0.7792 - val_throttle_out_acc: 0.9918\n",
            "\n",
            "Epoch 00039: val_loss improved from 0.37590 to 0.37242, saving model to /content/d2/models/mypilot.h5\n",
            "Epoch 40/100\n",
            "156/156 [==============================] - 17s 106ms/step - loss: 0.4069 - angle_out_loss: 0.7323 - throttle_out_loss: 0.0408 - angle_out_acc: 0.7706 - throttle_out_acc: 0.9894 - val_loss: 0.3761 - val_angle_out_loss: 0.6905 - val_throttle_out_loss: 0.0309 - val_angle_out_acc: 0.7743 - val_throttle_out_acc: 0.9916\n",
            "\n",
            "Epoch 00040: val_loss did not improve from 0.37242\n",
            "Epoch 41/100\n",
            "156/156 [==============================] - 17s 106ms/step - loss: 0.4058 - angle_out_loss: 0.7344 - throttle_out_loss: 0.0386 - angle_out_acc: 0.7699 - throttle_out_acc: 0.9899 - val_loss: 0.3712 - val_angle_out_loss: 0.6801 - val_throttle_out_loss: 0.0311 - val_angle_out_acc: 0.7810 - val_throttle_out_acc: 0.9922\n",
            "\n",
            "Epoch 00041: val_loss improved from 0.37242 to 0.37116, saving model to /content/d2/models/mypilot.h5\n",
            "Epoch 42/100\n",
            "156/156 [==============================] - 17s 107ms/step - loss: 0.4037 - angle_out_loss: 0.7271 - throttle_out_loss: 0.0401 - angle_out_acc: 0.7696 - throttle_out_acc: 0.9899 - val_loss: 0.3690 - val_angle_out_loss: 0.6750 - val_throttle_out_loss: 0.0315 - val_angle_out_acc: 0.7798 - val_throttle_out_acc: 0.9918\n",
            "\n",
            "Epoch 00042: val_loss improved from 0.37116 to 0.36901, saving model to /content/d2/models/mypilot.h5\n",
            "Epoch 43/100\n",
            "156/156 [==============================] - 17s 108ms/step - loss: 0.4019 - angle_out_loss: 0.7246 - throttle_out_loss: 0.0396 - angle_out_acc: 0.7731 - throttle_out_acc: 0.9899 - val_loss: 0.3626 - val_angle_out_loss: 0.6638 - val_throttle_out_loss: 0.0307 - val_angle_out_acc: 0.7790 - val_throttle_out_acc: 0.9918\n",
            "\n",
            "Epoch 00043: val_loss improved from 0.36901 to 0.36257, saving model to /content/d2/models/mypilot.h5\n",
            "Epoch 44/100\n",
            "156/156 [==============================] - 17s 108ms/step - loss: 0.4009 - angle_out_loss: 0.7221 - throttle_out_loss: 0.0398 - angle_out_acc: 0.7708 - throttle_out_acc: 0.9894 - val_loss: 0.3622 - val_angle_out_loss: 0.6621 - val_throttle_out_loss: 0.0312 - val_angle_out_acc: 0.7841 - val_throttle_out_acc: 0.9922\n",
            "\n",
            "Epoch 00044: val_loss improved from 0.36257 to 0.36222, saving model to /content/d2/models/mypilot.h5\n",
            "Epoch 45/100\n",
            "156/156 [==============================] - 17s 107ms/step - loss: 0.4004 - angle_out_loss: 0.7190 - throttle_out_loss: 0.0409 - angle_out_acc: 0.7712 - throttle_out_acc: 0.9896 - val_loss: 0.3570 - val_angle_out_loss: 0.6549 - val_throttle_out_loss: 0.0295 - val_angle_out_acc: 0.7854 - val_throttle_out_acc: 0.9912\n",
            "\n",
            "Epoch 00045: val_loss improved from 0.36222 to 0.35695, saving model to /content/d2/models/mypilot.h5\n",
            "Epoch 46/100\n",
            "156/156 [==============================] - 16s 105ms/step - loss: 0.3930 - angle_out_loss: 0.7081 - throttle_out_loss: 0.0389 - angle_out_acc: 0.7719 - throttle_out_acc: 0.9896 - val_loss: 0.3561 - val_angle_out_loss: 0.6513 - val_throttle_out_loss: 0.0304 - val_angle_out_acc: 0.7862 - val_throttle_out_acc: 0.9914\n",
            "\n",
            "Epoch 00046: val_loss improved from 0.35695 to 0.35612, saving model to /content/d2/models/mypilot.h5\n",
            "Epoch 47/100\n",
            "156/156 [==============================] - 16s 104ms/step - loss: 0.3974 - angle_out_loss: 0.7119 - throttle_out_loss: 0.0414 - angle_out_acc: 0.7727 - throttle_out_acc: 0.9892 - val_loss: 0.3577 - val_angle_out_loss: 0.6539 - val_throttle_out_loss: 0.0307 - val_angle_out_acc: 0.7782 - val_throttle_out_acc: 0.9910\n",
            "\n",
            "Epoch 00047: val_loss did not improve from 0.35612\n",
            "Epoch 48/100\n",
            "156/156 [==============================] - 16s 104ms/step - loss: 0.3999 - angle_out_loss: 0.7165 - throttle_out_loss: 0.0416 - angle_out_acc: 0.7757 - throttle_out_acc: 0.9896 - val_loss: 0.3499 - val_angle_out_loss: 0.6388 - val_throttle_out_loss: 0.0305 - val_angle_out_acc: 0.7895 - val_throttle_out_acc: 0.9920\n",
            "\n",
            "Epoch 00048: val_loss improved from 0.35612 to 0.34990, saving model to /content/d2/models/mypilot.h5\n",
            "Epoch 49/100\n",
            "156/156 [==============================] - 16s 104ms/step - loss: 0.3851 - angle_out_loss: 0.6943 - throttle_out_loss: 0.0379 - angle_out_acc: 0.7779 - throttle_out_acc: 0.9898 - val_loss: 0.3527 - val_angle_out_loss: 0.6450 - val_throttle_out_loss: 0.0302 - val_angle_out_acc: 0.7897 - val_throttle_out_acc: 0.9922\n",
            "\n",
            "Epoch 00049: val_loss did not improve from 0.34990\n",
            "Epoch 50/100\n",
            "156/156 [==============================] - 16s 103ms/step - loss: 0.3846 - angle_out_loss: 0.6945 - throttle_out_loss: 0.0373 - angle_out_acc: 0.7756 - throttle_out_acc: 0.9904 - val_loss: 0.3437 - val_angle_out_loss: 0.6245 - val_throttle_out_loss: 0.0315 - val_angle_out_acc: 0.7948 - val_throttle_out_acc: 0.9920\n",
            "\n",
            "Epoch 00050: val_loss improved from 0.34990 to 0.34375, saving model to /content/d2/models/mypilot.h5\n",
            "Epoch 51/100\n",
            "156/156 [==============================] - 16s 104ms/step - loss: 0.3868 - angle_out_loss: 0.6989 - throttle_out_loss: 0.0374 - angle_out_acc: 0.7760 - throttle_out_acc: 0.9899 - val_loss: 0.3474 - val_angle_out_loss: 0.6324 - val_throttle_out_loss: 0.0312 - val_angle_out_acc: 0.7911 - val_throttle_out_acc: 0.9920\n",
            "\n",
            "Epoch 00051: val_loss did not improve from 0.34375\n",
            "Epoch 52/100\n",
            "156/156 [==============================] - 17s 112ms/step - loss: 0.3820 - angle_out_loss: 0.6890 - throttle_out_loss: 0.0375 - angle_out_acc: 0.7792 - throttle_out_acc: 0.9898 - val_loss: 0.3465 - val_angle_out_loss: 0.6307 - val_throttle_out_loss: 0.0312 - val_angle_out_acc: 0.7917 - val_throttle_out_acc: 0.9918\n",
            "\n",
            "Epoch 00052: val_loss did not improve from 0.34375\n",
            "Epoch 53/100\n",
            "156/156 [==============================] - 17s 106ms/step - loss: 0.3819 - angle_out_loss: 0.6897 - throttle_out_loss: 0.0370 - angle_out_acc: 0.7801 - throttle_out_acc: 0.9897 - val_loss: 0.3418 - val_angle_out_loss: 0.6261 - val_throttle_out_loss: 0.0287 - val_angle_out_acc: 0.7930 - val_throttle_out_acc: 0.9922\n",
            "\n",
            "Epoch 00053: val_loss improved from 0.34375 to 0.34176, saving model to /content/d2/models/mypilot.h5\n",
            "Epoch 54/100\n",
            "156/156 [==============================] - 17s 108ms/step - loss: 0.3806 - angle_out_loss: 0.6848 - throttle_out_loss: 0.0381 - angle_out_acc: 0.7816 - throttle_out_acc: 0.9898 - val_loss: 0.3486 - val_angle_out_loss: 0.6339 - val_throttle_out_loss: 0.0317 - val_angle_out_acc: 0.7940 - val_throttle_out_acc: 0.9922\n",
            "\n",
            "Epoch 00054: val_loss did not improve from 0.34176\n",
            "Epoch 55/100\n",
            "156/156 [==============================] - 17s 107ms/step - loss: 0.3787 - angle_out_loss: 0.6811 - throttle_out_loss: 0.0381 - angle_out_acc: 0.7812 - throttle_out_acc: 0.9895 - val_loss: 0.3457 - val_angle_out_loss: 0.6284 - val_throttle_out_loss: 0.0315 - val_angle_out_acc: 0.7936 - val_throttle_out_acc: 0.9920\n",
            "\n",
            "Epoch 00055: val_loss did not improve from 0.34176\n",
            "Epoch 56/100\n",
            "156/156 [==============================] - 17s 107ms/step - loss: 0.3772 - angle_out_loss: 0.6778 - throttle_out_loss: 0.0383 - angle_out_acc: 0.7840 - throttle_out_acc: 0.9894 - val_loss: 0.3367 - val_angle_out_loss: 0.6165 - val_throttle_out_loss: 0.0285 - val_angle_out_acc: 0.7956 - val_throttle_out_acc: 0.9918\n",
            "\n",
            "Epoch 00056: val_loss improved from 0.34176 to 0.33675, saving model to /content/d2/models/mypilot.h5\n",
            "Epoch 57/100\n",
            "156/156 [==============================] - 17s 106ms/step - loss: 0.3784 - angle_out_loss: 0.6796 - throttle_out_loss: 0.0386 - angle_out_acc: 0.7825 - throttle_out_acc: 0.9890 - val_loss: 0.3365 - val_angle_out_loss: 0.6112 - val_throttle_out_loss: 0.0309 - val_angle_out_acc: 0.7979 - val_throttle_out_acc: 0.9912\n",
            "\n",
            "Epoch 00057: val_loss improved from 0.33675 to 0.33649, saving model to /content/d2/models/mypilot.h5\n",
            "Epoch 58/100\n",
            "156/156 [==============================] - 16s 106ms/step - loss: 0.3741 - angle_out_loss: 0.6705 - throttle_out_loss: 0.0389 - angle_out_acc: 0.7845 - throttle_out_acc: 0.9905 - val_loss: 0.3390 - val_angle_out_loss: 0.6158 - val_throttle_out_loss: 0.0311 - val_angle_out_acc: 0.8024 - val_throttle_out_acc: 0.9918\n",
            "\n",
            "Epoch 00058: val_loss did not improve from 0.33649\n",
            "Epoch 59/100\n",
            "156/156 [==============================] - 16s 104ms/step - loss: 0.3725 - angle_out_loss: 0.6715 - throttle_out_loss: 0.0367 - angle_out_acc: 0.7833 - throttle_out_acc: 0.9899 - val_loss: 0.3357 - val_angle_out_loss: 0.6091 - val_throttle_out_loss: 0.0311 - val_angle_out_acc: 0.8014 - val_throttle_out_acc: 0.9920\n",
            "\n",
            "Epoch 00059: val_loss improved from 0.33649 to 0.33565, saving model to /content/d2/models/mypilot.h5\n",
            "Epoch 60/100\n",
            "156/156 [==============================] - 16s 103ms/step - loss: 0.3706 - angle_out_loss: 0.6672 - throttle_out_loss: 0.0370 - angle_out_acc: 0.7855 - throttle_out_acc: 0.9897 - val_loss: 0.3353 - val_angle_out_loss: 0.6098 - val_throttle_out_loss: 0.0304 - val_angle_out_acc: 0.7993 - val_throttle_out_acc: 0.9922\n",
            "\n",
            "Epoch 00060: val_loss improved from 0.33565 to 0.33531, saving model to /content/d2/models/mypilot.h5\n",
            "Epoch 61/100\n",
            "156/156 [==============================] - 16s 104ms/step - loss: 0.3725 - angle_out_loss: 0.6691 - throttle_out_loss: 0.0380 - angle_out_acc: 0.7859 - throttle_out_acc: 0.9903 - val_loss: 0.3299 - val_angle_out_loss: 0.5990 - val_throttle_out_loss: 0.0304 - val_angle_out_acc: 0.8006 - val_throttle_out_acc: 0.9920\n",
            "\n",
            "Epoch 00061: val_loss improved from 0.33531 to 0.32989, saving model to /content/d2/models/mypilot.h5\n",
            "Epoch 62/100\n",
            "156/156 [==============================] - 16s 105ms/step - loss: 0.3693 - angle_out_loss: 0.6612 - throttle_out_loss: 0.0387 - angle_out_acc: 0.7860 - throttle_out_acc: 0.9897 - val_loss: 0.3329 - val_angle_out_loss: 0.6088 - val_throttle_out_loss: 0.0285 - val_angle_out_acc: 0.8018 - val_throttle_out_acc: 0.9920\n",
            "\n",
            "Epoch 00062: val_loss did not improve from 0.32989\n",
            "Epoch 63/100\n",
            "156/156 [==============================] - 16s 105ms/step - loss: 0.3692 - angle_out_loss: 0.6657 - throttle_out_loss: 0.0364 - angle_out_acc: 0.7836 - throttle_out_acc: 0.9904 - val_loss: 0.3297 - val_angle_out_loss: 0.6013 - val_throttle_out_loss: 0.0290 - val_angle_out_acc: 0.7981 - val_throttle_out_acc: 0.9920\n",
            "\n",
            "Epoch 00063: val_loss improved from 0.32989 to 0.32968, saving model to /content/d2/models/mypilot.h5\n",
            "Epoch 64/100\n",
            "156/156 [==============================] - 16s 105ms/step - loss: 0.3621 - angle_out_loss: 0.6530 - throttle_out_loss: 0.0356 - angle_out_acc: 0.7875 - throttle_out_acc: 0.9897 - val_loss: 0.3274 - val_angle_out_loss: 0.5931 - val_throttle_out_loss: 0.0308 - val_angle_out_acc: 0.8014 - val_throttle_out_acc: 0.9924\n",
            "\n",
            "Epoch 00064: val_loss improved from 0.32968 to 0.32736, saving model to /content/d2/models/mypilot.h5\n",
            "Epoch 65/100\n",
            "156/156 [==============================] - 16s 105ms/step - loss: 0.3673 - angle_out_loss: 0.6623 - throttle_out_loss: 0.0361 - angle_out_acc: 0.7835 - throttle_out_acc: 0.9901 - val_loss: 0.3297 - val_angle_out_loss: 0.6001 - val_throttle_out_loss: 0.0296 - val_angle_out_acc: 0.8006 - val_throttle_out_acc: 0.9932\n",
            "\n",
            "Epoch 00065: val_loss did not improve from 0.32736\n",
            "Epoch 66/100\n",
            "156/156 [==============================] - 18s 116ms/step - loss: 0.3677 - angle_out_loss: 0.6564 - throttle_out_loss: 0.0395 - angle_out_acc: 0.7868 - throttle_out_acc: 0.9901 - val_loss: 0.3285 - val_angle_out_loss: 0.5985 - val_throttle_out_loss: 0.0293 - val_angle_out_acc: 0.8041 - val_throttle_out_acc: 0.9912\n",
            "\n",
            "Epoch 00066: val_loss did not improve from 0.32736\n",
            "Epoch 67/100\n",
            "156/156 [==============================] - 17s 109ms/step - loss: 0.3641 - angle_out_loss: 0.6540 - throttle_out_loss: 0.0371 - angle_out_acc: 0.7881 - throttle_out_acc: 0.9900 - val_loss: 0.3312 - val_angle_out_loss: 0.6025 - val_throttle_out_loss: 0.0299 - val_angle_out_acc: 0.8047 - val_throttle_out_acc: 0.9922\n",
            "\n",
            "Epoch 00067: val_loss did not improve from 0.32736\n",
            "Epoch 68/100\n",
            "156/156 [==============================] - 17s 111ms/step - loss: 0.3664 - angle_out_loss: 0.6566 - throttle_out_loss: 0.0381 - angle_out_acc: 0.7892 - throttle_out_acc: 0.9902 - val_loss: 0.3301 - val_angle_out_loss: 0.5990 - val_throttle_out_loss: 0.0306 - val_angle_out_acc: 0.8028 - val_throttle_out_acc: 0.9922\n",
            "\n",
            "Epoch 00068: val_loss did not improve from 0.32736\n",
            "Epoch 69/100\n",
            "156/156 [==============================] - 17s 110ms/step - loss: 0.3613 - angle_out_loss: 0.6508 - throttle_out_loss: 0.0360 - angle_out_acc: 0.7894 - throttle_out_acc: 0.9908 - val_loss: 0.3244 - val_angle_out_loss: 0.5879 - val_throttle_out_loss: 0.0305 - val_angle_out_acc: 0.8014 - val_throttle_out_acc: 0.9926\n",
            "\n",
            "Epoch 00069: val_loss improved from 0.32736 to 0.32443, saving model to /content/d2/models/mypilot.h5\n",
            "Epoch 70/100\n",
            "156/156 [==============================] - 17s 111ms/step - loss: 0.3630 - angle_out_loss: 0.6488 - throttle_out_loss: 0.0386 - angle_out_acc: 0.7913 - throttle_out_acc: 0.9903 - val_loss: 0.3161 - val_angle_out_loss: 0.5758 - val_throttle_out_loss: 0.0282 - val_angle_out_acc: 0.8111 - val_throttle_out_acc: 0.9918\n",
            "\n",
            "Epoch 00070: val_loss improved from 0.32443 to 0.31607, saving model to /content/d2/models/mypilot.h5\n",
            "Epoch 71/100\n",
            "156/156 [==============================] - 17s 111ms/step - loss: 0.3619 - angle_out_loss: 0.6511 - throttle_out_loss: 0.0364 - angle_out_acc: 0.7894 - throttle_out_acc: 0.9903 - val_loss: 0.3239 - val_angle_out_loss: 0.5851 - val_throttle_out_loss: 0.0314 - val_angle_out_acc: 0.8074 - val_throttle_out_acc: 0.9922\n",
            "\n",
            "Epoch 00071: val_loss did not improve from 0.31607\n",
            "Epoch 72/100\n",
            "156/156 [==============================] - 17s 109ms/step - loss: 0.3563 - angle_out_loss: 0.6386 - throttle_out_loss: 0.0370 - angle_out_acc: 0.7892 - throttle_out_acc: 0.9899 - val_loss: 0.3173 - val_angle_out_loss: 0.5798 - val_throttle_out_loss: 0.0274 - val_angle_out_acc: 0.8047 - val_throttle_out_acc: 0.9924\n",
            "\n",
            "Epoch 00072: val_loss did not improve from 0.31607\n",
            "Epoch 73/100\n",
            "156/156 [==============================] - 17s 108ms/step - loss: 0.3612 - angle_out_loss: 0.6455 - throttle_out_loss: 0.0384 - angle_out_acc: 0.7930 - throttle_out_acc: 0.9897 - val_loss: 0.3181 - val_angle_out_loss: 0.5774 - val_throttle_out_loss: 0.0293 - val_angle_out_acc: 0.8109 - val_throttle_out_acc: 0.9924\n",
            "\n",
            "Epoch 00073: val_loss did not improve from 0.31607\n",
            "Epoch 74/100\n",
            "156/156 [==============================] - 17s 110ms/step - loss: 0.3506 - angle_out_loss: 0.6316 - throttle_out_loss: 0.0348 - angle_out_acc: 0.7951 - throttle_out_acc: 0.9904 - val_loss: 0.3098 - val_angle_out_loss: 0.5650 - val_throttle_out_loss: 0.0273 - val_angle_out_acc: 0.8096 - val_throttle_out_acc: 0.9924\n",
            "\n",
            "Epoch 00074: val_loss improved from 0.31607 to 0.30978, saving model to /content/d2/models/mypilot.h5\n",
            "Epoch 75/100\n",
            "156/156 [==============================] - 17s 111ms/step - loss: 0.3587 - angle_out_loss: 0.6447 - throttle_out_loss: 0.0364 - angle_out_acc: 0.7912 - throttle_out_acc: 0.9904 - val_loss: 0.3133 - val_angle_out_loss: 0.5676 - val_throttle_out_loss: 0.0296 - val_angle_out_acc: 0.8104 - val_throttle_out_acc: 0.9924\n",
            "\n",
            "Epoch 00075: val_loss did not improve from 0.30978\n",
            "Epoch 76/100\n",
            "156/156 [==============================] - 17s 109ms/step - loss: 0.3530 - angle_out_loss: 0.6351 - throttle_out_loss: 0.0354 - angle_out_acc: 0.7914 - throttle_out_acc: 0.9907 - val_loss: 0.3181 - val_angle_out_loss: 0.5823 - val_throttle_out_loss: 0.0270 - val_angle_out_acc: 0.8152 - val_throttle_out_acc: 0.9928\n",
            "\n",
            "Epoch 00076: val_loss did not improve from 0.30978\n",
            "Epoch 77/100\n",
            "156/156 [==============================] - 17s 109ms/step - loss: 0.3553 - angle_out_loss: 0.6311 - throttle_out_loss: 0.0398 - angle_out_acc: 0.7958 - throttle_out_acc: 0.9894 - val_loss: 0.3066 - val_angle_out_loss: 0.5554 - val_throttle_out_loss: 0.0289 - val_angle_out_acc: 0.8170 - val_throttle_out_acc: 0.9922\n",
            "\n",
            "Epoch 00077: val_loss improved from 0.30978 to 0.30661, saving model to /content/d2/models/mypilot.h5\n",
            "Epoch 78/100\n",
            "156/156 [==============================] - 17s 110ms/step - loss: 0.3518 - angle_out_loss: 0.6311 - throttle_out_loss: 0.0363 - angle_out_acc: 0.7932 - throttle_out_acc: 0.9901 - val_loss: 0.3160 - val_angle_out_loss: 0.5747 - val_throttle_out_loss: 0.0287 - val_angle_out_acc: 0.8137 - val_throttle_out_acc: 0.9920\n",
            "\n",
            "Epoch 00078: val_loss did not improve from 0.30661\n",
            "Epoch 79/100\n",
            "156/156 [==============================] - 17s 111ms/step - loss: 0.3479 - angle_out_loss: 0.6227 - throttle_out_loss: 0.0365 - angle_out_acc: 0.7967 - throttle_out_acc: 0.9905 - val_loss: 0.3115 - val_angle_out_loss: 0.5678 - val_throttle_out_loss: 0.0276 - val_angle_out_acc: 0.8094 - val_throttle_out_acc: 0.9922\n",
            "\n",
            "Epoch 00079: val_loss did not improve from 0.30661\n",
            "Epoch 80/100\n",
            "156/156 [==============================] - 17s 111ms/step - loss: 0.3560 - angle_out_loss: 0.6367 - throttle_out_loss: 0.0377 - angle_out_acc: 0.7969 - throttle_out_acc: 0.9896 - val_loss: 0.3109 - val_angle_out_loss: 0.5689 - val_throttle_out_loss: 0.0264 - val_angle_out_acc: 0.8162 - val_throttle_out_acc: 0.9926\n",
            "\n",
            "Epoch 00080: val_loss did not improve from 0.30661\n",
            "Epoch 81/100\n",
            "156/156 [==============================] - 17s 109ms/step - loss: 0.3478 - angle_out_loss: 0.6208 - throttle_out_loss: 0.0374 - angle_out_acc: 0.7984 - throttle_out_acc: 0.9901 - val_loss: 0.3009 - val_angle_out_loss: 0.5473 - val_throttle_out_loss: 0.0273 - val_angle_out_acc: 0.8146 - val_throttle_out_acc: 0.9926\n",
            "\n",
            "Epoch 00081: val_loss improved from 0.30661 to 0.30088, saving model to /content/d2/models/mypilot.h5\n",
            "Epoch 82/100\n",
            "156/156 [==============================] - 17s 107ms/step - loss: 0.3464 - angle_out_loss: 0.6159 - throttle_out_loss: 0.0385 - angle_out_acc: 0.7980 - throttle_out_acc: 0.9901 - val_loss: 0.3101 - val_angle_out_loss: 0.5654 - val_throttle_out_loss: 0.0274 - val_angle_out_acc: 0.8176 - val_throttle_out_acc: 0.9928\n",
            "\n",
            "Epoch 00082: val_loss did not improve from 0.30088\n",
            "Epoch 83/100\n",
            "156/156 [==============================] - 17s 107ms/step - loss: 0.3506 - angle_out_loss: 0.6261 - throttle_out_loss: 0.0375 - angle_out_acc: 0.7954 - throttle_out_acc: 0.9895 - val_loss: 0.3048 - val_angle_out_loss: 0.5512 - val_throttle_out_loss: 0.0292 - val_angle_out_acc: 0.8156 - val_throttle_out_acc: 0.9922\n",
            "\n",
            "Epoch 00083: val_loss did not improve from 0.30088\n",
            "Epoch 84/100\n",
            "156/156 [==============================] - 17s 110ms/step - loss: 0.3462 - angle_out_loss: 0.6178 - throttle_out_loss: 0.0373 - angle_out_acc: 0.7969 - throttle_out_acc: 0.9901 - val_loss: 0.3119 - val_angle_out_loss: 0.5641 - val_throttle_out_loss: 0.0298 - val_angle_out_acc: 0.8146 - val_throttle_out_acc: 0.9924\n",
            "\n",
            "Epoch 00084: val_loss did not improve from 0.30088\n",
            "Epoch 85/100\n",
            "156/156 [==============================] - 17s 110ms/step - loss: 0.3465 - angle_out_loss: 0.6203 - throttle_out_loss: 0.0364 - angle_out_acc: 0.7983 - throttle_out_acc: 0.9898 - val_loss: 0.3068 - val_angle_out_loss: 0.5605 - val_throttle_out_loss: 0.0266 - val_angle_out_acc: 0.8150 - val_throttle_out_acc: 0.9926\n",
            "\n",
            "Epoch 00085: val_loss did not improve from 0.30088\n",
            "Epoch 86/100\n",
            "156/156 [==============================] - 17s 108ms/step - loss: 0.3391 - angle_out_loss: 0.6073 - throttle_out_loss: 0.0354 - angle_out_acc: 0.7994 - throttle_out_acc: 0.9905 - val_loss: 0.3111 - val_angle_out_loss: 0.5623 - val_throttle_out_loss: 0.0300 - val_angle_out_acc: 0.8199 - val_throttle_out_acc: 0.9922\n",
            "\n",
            "Epoch 00086: val_loss did not improve from 0.30088\n",
            "Epoch 00086: early stopping\n",
            "\n",
            "\n",
            "----------- Best Eval Loss :0.300877 ---------\n"
          ],
          "name": "stdout"
        },
        {
          "output_type": "display_data",
          "data": {
            "image/png": "[encoded data removed]",
            "text/plain": [
              "<Figure size 432x288 with 2 Axes>"
            ]
          },
          "metadata": {
            "tags": []
          }
        }
      ]
    },
    {
      "cell_type": "code",
      "metadata": {
        "id": "B5Gvh5TOuf7b",
        "colab_type": "code",
        "colab": {}
      },
      "source": [
        "#download the finished file:\n",
        "\n",
        "from google.colab import files\n",
        "files.download(model)"
      ],
      "execution_count": 0,
      "outputs": []
    }
  ]
}